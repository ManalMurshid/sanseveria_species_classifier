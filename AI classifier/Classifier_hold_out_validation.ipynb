{
 "cells": [
  {
   "cell_type": "code",
   "execution_count": 94,
   "id": "1b8dce39",
   "metadata": {},
   "outputs": [],
   "source": [
    "import pandas as pd\n",
    "import numpy as np\n",
    "import tensorflow as tf\n",
    "from tensorflow import keras\n",
    "from tensorflow.keras.models import Sequential\n",
    "from tensorflow.keras.layers import Dense\n",
    "from sklearn.preprocessing import StandardScaler\n",
    "from sklearn.preprocessing import OneHotEncoder\n",
    "from sklearn.model_selection import train_test_split\n",
    "from tensorflow.keras.callbacks import EarlyStopping\n",
    "from sklearn.model_selection import GridSearchCV\n",
    "from keras.wrappers.scikit_learn import KerasClassifier "
   ]
  },
  {
   "cell_type": "code",
   "execution_count": 95,
   "id": "14aa960a",
   "metadata": {},
   "outputs": [],
   "source": [
    "# Load the dataset\n",
    "data = pd.read_csv('datasetnew.csv')"
   ]
  },
  {
   "cell_type": "code",
   "execution_count": 96,
   "id": "6122f5b8",
   "metadata": {},
   "outputs": [
    {
     "data": {
      "text/html": [
       "<div>\n",
       "<style scoped>\n",
       "    .dataframe tbody tr th:only-of-type {\n",
       "        vertical-align: middle;\n",
       "    }\n",
       "\n",
       "    .dataframe tbody tr th {\n",
       "        vertical-align: top;\n",
       "    }\n",
       "\n",
       "    .dataframe thead th {\n",
       "        text-align: right;\n",
       "    }\n",
       "</style>\n",
       "<table border=\"1\" class=\"dataframe\">\n",
       "  <thead>\n",
       "    <tr style=\"text-align: right;\">\n",
       "      <th></th>\n",
       "      <th>Species</th>\n",
       "      <th>Plant_Height</th>\n",
       "      <th>No._of_leaves_in_a_cluster</th>\n",
       "      <th>Length_Width_LeafRatio</th>\n",
       "      <th>Average_angle_of_leaf_divergence_from_vertical</th>\n",
       "    </tr>\n",
       "  </thead>\n",
       "  <tbody>\n",
       "    <tr>\n",
       "      <th>0</th>\n",
       "      <td>Sansevieria trifasciata Hahnii</td>\n",
       "      <td>23.0</td>\n",
       "      <td>20</td>\n",
       "      <td>2.22</td>\n",
       "      <td>37.21</td>\n",
       "    </tr>\n",
       "    <tr>\n",
       "      <th>1</th>\n",
       "      <td>Sansevieria trifasciata Hahnii</td>\n",
       "      <td>23.0</td>\n",
       "      <td>20</td>\n",
       "      <td>2.88</td>\n",
       "      <td>22.00</td>\n",
       "    </tr>\n",
       "    <tr>\n",
       "      <th>2</th>\n",
       "      <td>Sansevieria trifasciata Hahnii</td>\n",
       "      <td>23.0</td>\n",
       "      <td>20</td>\n",
       "      <td>3.14</td>\n",
       "      <td>15.73</td>\n",
       "    </tr>\n",
       "    <tr>\n",
       "      <th>3</th>\n",
       "      <td>Sansevieria trifasciata Hahnii</td>\n",
       "      <td>23.0</td>\n",
       "      <td>20</td>\n",
       "      <td>1.82</td>\n",
       "      <td>29.45</td>\n",
       "    </tr>\n",
       "    <tr>\n",
       "      <th>4</th>\n",
       "      <td>Sansevieria trifasciata Hahnii</td>\n",
       "      <td>26.0</td>\n",
       "      <td>15</td>\n",
       "      <td>2.00</td>\n",
       "      <td>41.12</td>\n",
       "    </tr>\n",
       "  </tbody>\n",
       "</table>\n",
       "</div>"
      ],
      "text/plain": [
       "                          Species  Plant_Height  No._of_leaves_in_a_cluster  \\\n",
       "0  Sansevieria trifasciata Hahnii          23.0                          20   \n",
       "1  Sansevieria trifasciata Hahnii          23.0                          20   \n",
       "2  Sansevieria trifasciata Hahnii          23.0                          20   \n",
       "3  Sansevieria trifasciata Hahnii          23.0                          20   \n",
       "4  Sansevieria trifasciata Hahnii          26.0                          15   \n",
       "\n",
       "   Length_Width_LeafRatio  Average_angle_of_leaf_divergence_from_vertical  \n",
       "0                    2.22                                           37.21  \n",
       "1                    2.88                                           22.00  \n",
       "2                    3.14                                           15.73  \n",
       "3                    1.82                                           29.45  \n",
       "4                    2.00                                           41.12  "
      ]
     },
     "execution_count": 96,
     "metadata": {},
     "output_type": "execute_result"
    }
   ],
   "source": [
    "features = ['Species','Plant_Height', 'No._of_leaves_in_a_cluster',\n",
    "            'Length_Width_LeafRatio','Average_angle_of_leaf_divergence_from_vertical'] \n",
    "\n",
    "data = data.drop('Leaf height', axis=1)\n",
    "data = data.drop('Leaf Width', axis=1)\n",
    "\n",
    "\n",
    "data.columns = features\n",
    "# Explore the data\n",
    "data.head()"
   ]
  },
  {
   "cell_type": "code",
   "execution_count": 97,
   "id": "c5fde115",
   "metadata": {},
   "outputs": [
    {
     "name": "stdout",
     "output_type": "stream",
     "text": [
      "Species                                           0\n",
      "Plant_Height                                      0\n",
      "No._of_leaves_in_a_cluster                        0\n",
      "Length_Width_LeafRatio                            0\n",
      "Average_angle_of_leaf_divergence_from_vertical    0\n",
      "dtype: int64\n",
      "                          Species  Plant_Height  No._of_leaves_in_a_cluster  \\\n",
      "0  Sansevieria trifasciata Hahnii          23.0                          20   \n",
      "1  Sansevieria trifasciata Hahnii          23.0                          20   \n",
      "2  Sansevieria trifasciata Hahnii          23.0                          20   \n",
      "3  Sansevieria trifasciata Hahnii          23.0                          20   \n",
      "4  Sansevieria trifasciata Hahnii          26.0                          15   \n",
      "\n",
      "   Length_Width_LeafRatio  Average_angle_of_leaf_divergence_from_vertical  \n",
      "0                    2.22                                           37.21  \n",
      "1                    2.88                                           22.00  \n",
      "2                    3.14                                           15.73  \n",
      "3                    1.82                                           29.45  \n",
      "4                    2.00                                           41.12  \n"
     ]
    }
   ],
   "source": [
    "import pandas as pd\n",
    "\n",
    "def replace_missing_with_zeros(data):\n",
    "    \"\"\"\n",
    "    Replace missing values with zeros in the dataset.\n",
    "\n",
    "    Parameters:\n",
    "    - data: pandas DataFrame, input dataset with missing values\n",
    "\n",
    "    Returns:\n",
    "    - data_filled: pandas DataFrame, dataset with missing values replaced by zeros\n",
    "    \"\"\"\n",
    "    data_filled = data.fillna(0)\n",
    "    return data_filled\n",
    "\n",
    "# Replace missing values with zeros\n",
    "data_filled = replace_missing_with_zeros(data)\n",
    "\n",
    "# Check for missing values after replacement\n",
    "print(data_filled.isnull().sum())\n",
    "\n",
    "# Explore the data\n",
    "print(data_filled.head())\n"
   ]
  },
  {
   "cell_type": "code",
   "execution_count": 98,
   "id": "2742aaf1",
   "metadata": {},
   "outputs": [],
   "source": [
    "features = data.drop('Species', axis=1)  # Drop the 'species' column (label)\n",
    "labels = data['Species'].to_numpy()          # Select the 'species' column (label)\n",
    "\n",
    "encoder = OneHotEncoder(sparse=False)\n",
    "# Fit the encoder on the labels to learn the categories\n",
    "encoder.fit(labels.reshape(-1, 1))  # Reshape labels if needed\n",
    "# Transform the labels into a one-hot encoded NumPy array\n",
    "labels_encoded = encoder.transform(labels.reshape(-1, 1))"
   ]
  },
  {
   "cell_type": "code",
   "execution_count": 99,
   "id": "ffc7bce3",
   "metadata": {},
   "outputs": [],
   "source": [
    "from sklearn.preprocessing import StandardScaler\n",
    "# Initialize StandardScaler\n",
    "scaler = StandardScaler()\n",
    "\n",
    "# Normalize features\n",
    "features_normalized = scaler.fit_transform(features)"
   ]
  },
  {
   "cell_type": "code",
   "execution_count": 100,
   "id": "a9604b20",
   "metadata": {},
   "outputs": [
    {
     "name": "stdout",
     "output_type": "stream",
     "text": [
      "70\n",
      "19\n",
      "29\n"
     ]
    }
   ],
   "source": [
    "# Assuming your data is loaded into features (X) and labels (y) arrays\n",
    "train_features, X_val_test, train_labels, y_val_test = train_test_split(features, labels_encoded, test_size=0.4)\n",
    "\n",
    "# Further split the validation and test set (adjust test_size as needed)\n",
    "val_features, test_features, val_labels, test_labels = train_test_split(X_val_test, y_val_test, test_size=0.6)\n",
    "\n",
    "\n",
    "\n",
    "print(len(train_features))\n",
    "print(len(val_features))\n",
    "print(len(test_features))\n",
    "# print(len(new_features))"
   ]
  },
  {
   "cell_type": "code",
   "execution_count": 101,
   "id": "854232ac",
   "metadata": {},
   "outputs": [],
   "source": [
    "# import numpy as np\n",
    "\n",
    "\n",
    "# def vectorize_sequences(sequences, dimension=None):\n",
    "#   \"\"\"\n",
    "#   One-hot encodes a list of sequences (can handle non-integer values).\n",
    "\n",
    "#   Args:\n",
    "#       sequences: A list of sequences.\n",
    "#       dimension: (Optional) The dimension of the one-hot encoded representation.\n",
    "#                  If None, it will be determined by the unique values in the sequences.\n",
    "\n",
    "#   Returns:\n",
    "#       A numpy array of shape (len(sequences), dimension) where each row is a one-hot encoded sequence.\n",
    "#   \"\"\"\n",
    "#   if dimension is None:\n",
    "#       unique_values = np.unique([item for sublist in sequences for item in sublist])\n",
    "#       dimension = len(unique_values)\n",
    "#   results = np.zeros((len(sequences), dimension))\n",
    "#   for i, sequence in enumerate(sequences):\n",
    "#       # Use np.where to find indices of matching values\n",
    "#       value_indices = np.where(unique_values == sequence)[0]\n",
    "#       # Set corresponding elements in results to 1\n",
    "#       results[i, value_indices] = 1.\n",
    "#   return results\n",
    "\n",
    "\n",
    "# x_train = vectorize_sequences(train_features)\n",
    "# x_test = vectorize_sequences(test_features)\n",
    "# x_train[0]  # This line accesses the first element of the first row in x_train\n",
    "# y_train = np.asarray(train_labels).astype('float32')\n",
    "# y_test = np.asarray(test_labels).astype('float32')\n",
    "\n",
    "# x_train[0]\n"
   ]
  },
  {
   "cell_type": "code",
   "execution_count": 102,
   "id": "4f4fe9e6",
   "metadata": {},
   "outputs": [
    {
     "name": "stdout",
     "output_type": "stream",
     "text": [
      "(70, 26)\n",
      "(29, 26)\n"
     ]
    }
   ],
   "source": [
    "print(x_train.shape)\n",
    "print(x_test.shape)"
   ]
  },
  {
   "cell_type": "markdown",
   "id": "e105ed4e",
   "metadata": {},
   "source": [
    "70 samples with 26 features after vectorizing 29 samples with 26 features"
   ]
  },
  {
   "cell_type": "code",
   "execution_count": 103,
   "id": "0277950c",
   "metadata": {},
   "outputs": [
    {
     "name": "stdout",
     "output_type": "stream",
     "text": [
      "(70, 4)\n",
      "(29, 4)\n"
     ]
    }
   ],
   "source": [
    "print (y_train.shape)\n",
    "print (y_test.shape)"
   ]
  },
  {
   "cell_type": "markdown",
   "id": "7c32abdc",
   "metadata": {},
   "source": [
    "Here it is three features because there are three labels to classify the plants"
   ]
  },
  {
   "cell_type": "code",
   "execution_count": 104,
   "id": "33d60aa2",
   "metadata": {},
   "outputs": [],
   "source": [
    "# from keras.wrappers.scikit_learn import KerasClassifier\n",
    "# from tensorflow.keras.regularizers import l2\n",
    "# from sklearn.model_selection import train_test_split\n",
    "# from sklearn.model_selection import GridSearchCV\n",
    "\n",
    "# # Define a function to create the Keras model\n",
    "# def create_model(learning_rate=0.01, num_hidden_layers=1, input_layer_units=64, hidden_layer_units=32, l2_reg=0.01):\n",
    "#     model = Sequential()\n",
    "#     model.add(Dense(input_layer_units, activation='relu', input_shape=train_features.shape[1:], kernel_regularizer=l2(l2_reg)))\n",
    "\n",
    "#     for _ in range(num_hidden_layers - 1):\n",
    "#         model.add(Dense(hidden_layer_units, activation='relu', kernel_regularizer=l2(l2_reg)))\n",
    "    \n",
    "#     model.add(Dense(3, activation='softmax'))\n",
    "#     model.compile(loss='categorical_crossentropy', optimizer=keras.optimizers.Adam(learning_rate=learning_rate), metrics=['accuracy'])\n",
    "#     return model\n",
    "\n",
    "# # Wrap the Keras model using KerasClassifier\n",
    "# model = KerasClassifier(build_fn=create_model)\n",
    "\n",
    "# # Define the hyperparameter search space including regularization strength\n",
    "# param_grid = {\n",
    "#     'learning_rate': [0.001, 0.01, 0.1],\n",
    "#     'num_hidden_layers': [1, 2, 3],\n",
    "#     'input_layer_units': [64, 128, 256],\n",
    "#     'hidden_layer_units': [32, 64, 128],\n",
    "#     'l2_reg': [0.001, 0.01, 0.1]  # Regularization strength\n",
    "# }\n",
    "\n",
    "# # Perform grid search\n",
    "# gs = GridSearchCV(estimator=model, param_grid=param_grid, cv=10) \n",
    "# gs.fit(train_features, train_labels)\n",
    "\n",
    "# # Get the best model and its parameters\n",
    "# best_model = gs.best_estimator_.model\n",
    "# best_params = gs.best_params_\n",
    "# accuracy = gs.best_score_ \n",
    "\n",
    "# # Print results\n",
    "# print(\"Training Accuracy:\", accuracy)\n",
    "# print(\"Best Params:\", best_params)\n",
    "\n",
    "# # Evaluate the best model on the test set\n",
    "# loss, accuracy = best_model.evaluate(test_features, test_labels,verbose=0)\n",
    "# print(\"Test accuracy with Hyperparameter Tuning:\", accuracy)\n",
    "\n",
    "# # Print the best hyperparameters\n",
    "# print(\"Best Hyperparameters:\", best_params)\n"
   ]
  },
  {
   "cell_type": "code",
   "execution_count": 105,
   "id": "7d8f04ae",
   "metadata": {},
   "outputs": [
    {
     "name": "stdout",
     "output_type": "stream",
     "text": [
      "Model: \"sequential_8\"\n",
      "_________________________________________________________________\n",
      " Layer (type)                Output Shape              Param #   \n",
      "=================================================================\n",
      " dense_24 (Dense)            (None, 64)                320       \n",
      "                                                                 \n",
      " dense_25 (Dense)            (None, 128)               8320      \n",
      "                                                                 \n",
      " dense_26 (Dense)            (None, 3)                 387       \n",
      "                                                                 \n",
      "=================================================================\n",
      "Total params: 9,027\n",
      "Trainable params: 9,027\n",
      "Non-trainable params: 0\n",
      "_________________________________________________________________\n",
      "Epoch 1/300\n",
      "70/70 [==============================] - 1s 5ms/step - loss: 0.6248 - accuracy: 0.8143 - val_loss: 0.2212 - val_accuracy: 0.9474\n",
      "Epoch 2/300\n",
      "70/70 [==============================] - 0s 3ms/step - loss: 0.2367 - accuracy: 0.9571 - val_loss: 0.1606 - val_accuracy: 0.9474\n",
      "Epoch 3/300\n",
      "70/70 [==============================] - 0s 2ms/step - loss: 0.1541 - accuracy: 0.9714 - val_loss: 0.1875 - val_accuracy: 0.9474\n",
      "Epoch 4/300\n",
      "70/70 [==============================] - 0s 2ms/step - loss: 0.2584 - accuracy: 0.9286 - val_loss: 0.2423 - val_accuracy: 0.8421\n",
      "Epoch 5/300\n",
      "70/70 [==============================] - 0s 2ms/step - loss: 0.1936 - accuracy: 0.9429 - val_loss: 0.1966 - val_accuracy: 0.9474\n",
      "Epoch 6/300\n",
      "70/70 [==============================] - 0s 2ms/step - loss: 0.3971 - accuracy: 0.9286 - val_loss: 0.6401 - val_accuracy: 0.9474\n",
      "Epoch 7/300\n",
      "70/70 [==============================] - 0s 2ms/step - loss: 0.2398 - accuracy: 0.9286 - val_loss: 0.2866 - val_accuracy: 0.9474\n",
      "Epoch 8/300\n",
      "70/70 [==============================] - 0s 2ms/step - loss: 0.1768 - accuracy: 0.9429 - val_loss: 0.2959 - val_accuracy: 0.9474\n",
      "Epoch 9/300\n",
      "70/70 [==============================] - 0s 2ms/step - loss: 0.2302 - accuracy: 0.9143 - val_loss: 0.4273 - val_accuracy: 0.9474\n",
      "Epoch 10/300\n",
      "70/70 [==============================] - 0s 2ms/step - loss: 0.2056 - accuracy: 0.9714 - val_loss: 0.2238 - val_accuracy: 0.9474\n",
      "Epoch 11/300\n",
      "70/70 [==============================] - 0s 2ms/step - loss: 0.2367 - accuracy: 0.9286 - val_loss: 0.1999 - val_accuracy: 0.9474\n",
      "Epoch 12/300\n",
      "70/70 [==============================] - 0s 2ms/step - loss: 0.1697 - accuracy: 0.9429 - val_loss: 0.3665 - val_accuracy: 0.8421\n"
     ]
    }
   ],
   "source": [
    "from keras import models\n",
    "from keras import layers\n",
    "from keras.callbacks import EarlyStopping\n",
    "\n",
    "\n",
    "# Define the model\n",
    "model = models.Sequential()\n",
    "model.add(layers.Dense(64, activation='relu', input_shape=(4,)))\n",
    "model.add(layers.Dense(128, activation='relu'))\n",
    "model.add(layers.Dense(3, activation='sigmoid'))\n",
    "\n",
    "# Print the model summary\n",
    "model.summary()\n",
    "\n",
    "# Compile the model\n",
    "model.compile(loss=\"categorical_crossentropy\", optimizer=\"adam\", metrics=[\"accuracy\"])\n",
    "\n",
    "# Define EarlyStopping callback\n",
    "early_stopping = EarlyStopping(monitor='val_loss', patience=10)\n",
    "\n",
    "# Train the model using Stochastic Gradient Descent (SGD)\n",
    "history=model.fit(train_features, train_labels, epochs=300, batch_size=1, validation_data=(val_features, val_labels), callbacks=[early_stopping])\n"
   ]
  },
  {
   "cell_type": "code",
   "execution_count": 106,
   "id": "3f9428e2",
   "metadata": {},
   "outputs": [
    {
     "name": "stdout",
     "output_type": "stream",
     "text": [
      "1/1 [==============================] - 0s 172ms/step - loss: 0.0991 - accuracy: 0.9655\n",
      "Test accuracy: 0.9655172228813171\n"
     ]
    }
   ],
   "source": [
    "loss, accuracy = model.evaluate(test_features, test_labels)\n",
    "print(\"Test accuracy:\", accuracy)"
   ]
  },
  {
   "cell_type": "markdown",
   "id": "04b87298",
   "metadata": {},
   "source": [
    "If the performance on the test set is significantly worse \n",
    "than on the validation data, this could indicate an \n",
    "unreliable validation procedure or overfitting during \n",
    "model tuning.\n",
    "\n",
    "• In such situations, consider switching to a more robust \n",
    "evaluation method, like iterated K-fold validation."
   ]
  },
  {
   "cell_type": "code",
   "execution_count": 107,
   "id": "86127c99",
   "metadata": {},
   "outputs": [
    {
     "name": "stdout",
     "output_type": "stream",
     "text": [
      "dict_keys(['loss', 'accuracy', 'val_loss', 'val_accuracy'])\n"
     ]
    }
   ],
   "source": [
    "history_dict = history.history\n",
    "print(history_dict.keys()) \n"
   ]
  },
  {
   "cell_type": "code",
   "execution_count": 108,
   "id": "cbb5c0dd",
   "metadata": {},
   "outputs": [],
   "source": [
    "loss_values = history_dict['loss']\n",
    "val_loss_values = history_dict['val_loss']\n",
    "epochs = range(1, len(loss_values) + 1)"
   ]
  },
  {
   "cell_type": "code",
   "execution_count": 109,
   "id": "d93be98f",
   "metadata": {},
   "outputs": [
    {
     "data": {
      "text/plain": [
       "<matplotlib.legend.Legend at 0x272182247f0>"
      ]
     },
     "execution_count": 109,
     "metadata": {},
     "output_type": "execute_result"
    },
    {
     "data": {
      "image/png": "[encoded data removed]",
      "text/plain": [
       "<Figure size 1200x500 with 1 Axes>"
      ]
     },
     "metadata": {},
     "output_type": "display_data"
    }
   ],
   "source": [
    "import matplotlib.pyplot as plt\n",
    "plt.figure(figsize=(12, 5))\n",
    "\n",
    "# Subplot for Loss\n",
    "plt.subplot(1, 2, 1)\n",
    "plt.plot(epochs, loss_values, 'r', label='Training loss')\n",
    "plt.plot(epochs, val_loss_values, 'b', label='Validation loss')\n",
    "plt.title('Training and validation loss')\n",
    "plt.xlabel('Epochs')\n",
    "plt.ylabel('Loss')\n",
    "plt.legend()"
   ]
  },
  {
   "cell_type": "code",
   "execution_count": 110,
   "id": "5f49c891",
   "metadata": {},
   "outputs": [
    {
     "data": {
      "image/png": "[encoded data removed]",
      "text/plain": [
       "<Figure size 640x480 with 1 Axes>"
      ]
     },
     "metadata": {},
     "output_type": "display_data"
    }
   ],
   "source": [
    "# Plot the training and validation accuracy\n",
    "acc_values = history_dict['accuracy']\n",
    "val_acc_values = history_dict['val_accuracy']\n",
    "\n",
    "# Subplot for Accuracy\n",
    "plt.subplot(1, 2, 2)\n",
    "plt.plot(epochs, acc_values, 'r', label='Training accuracy')\n",
    "plt.plot(epochs, val_acc_values, 'b', label='Validation accuracy')\n",
    "plt.title('Training and validation accuracy')\n",
    "plt.xlabel('Epochs')\n",
    "plt.ylabel('Accuracy')\n",
    "plt.legend()\n",
    "\n",
    "plt.show()"
   ]
  },
  {
   "cell_type": "code",
   "execution_count": null,
   "id": "ebe7a76d",
   "metadata": {},
   "outputs": [],
   "source": []
  }
 ],
 "metadata": {
  "kernelspec": {
   "display_name": "Python 3 (ipykernel)",
   "language": "python",
   "name": "python3"
  },
  "language_info": {
   "codemirror_mode": {
    "name": "ipython",
    "version": 3
   },
   "file_extension": ".py",
   "mimetype": "text/x-python",
   "name": "python",
   "nbconvert_exporter": "python",
   "pygments_lexer": "ipython3",
   "version": "3.7.1"
  }
 },
 "nbformat": 4,
 "nbformat_minor": 5
}
