{
 "cells": [
  {
   "cell_type": "code",
   "execution_count": 53,
   "id": "4ad41b68",
   "metadata": {},
   "outputs": [],
   "source": [
    "import pandas as pd\n",
    "import numpy as np\n",
    "from tensorflow.keras.models import load_model\n",
    "from sklearn.preprocessing import StandardScaler, OneHotEncoder"
   ]
  },
  {
   "cell_type": "code",
   "execution_count": 54,
   "id": "3f59b361",
   "metadata": {},
   "outputs": [],
   "source": [
    "# Load the dataset\n",
    "data = pd.read_csv('datasetnew.csv')\n",
    "\n",
    "# Define feature columns\n",
    "features = ['Species','Plant_Height', 'No._of_leaves_in_a_cluster',\n",
    "            'Length_Width_LeafRatio','Average_angle_of_leaf_divergence_from_vertical']\n",
    "\n",
    "# Drop unnecessary columns\n",
    "data = data.drop('Leaf height', axis=1)\n",
    "data = data.drop('Leaf Width', axis=1)\n",
    "\n",
    "# Replace missing values with zeros\n",
    "data_filled = data.fillna(0)"
   ]
  },
  {
   "cell_type": "code",
   "execution_count": 55,
   "id": "63f7de31",
   "metadata": {},
   "outputs": [
    {
     "name": "stdout",
     "output_type": "stream",
     "text": [
      "Unique Labels:\n",
      "Dracaena Trifasciata\n",
      "Sanseveria Liberica\n",
      "Sansevieria trifasciata Hahnii\n"
     ]
    }
   ],
   "source": [
    "features_data = data_filled.drop('Species', axis=1)\n",
    "labels = data_filled['Species'].to_numpy()\n",
    "\n",
    "# Encode labels\n",
    "encoder = OneHotEncoder(sparse=False)\n",
    "labels_encoded = encoder.fit_transform(labels.reshape(-1, 1))\n",
    "\n",
    "# Normalize features\n",
    "scaler = StandardScaler()\n",
    "features_normalized = scaler.fit_transform(features_data)\n",
    "\n",
    "# Get unique labels after encoding\n",
    "unique_labels = np.unique(labels)\n",
    "\n",
    "# Print unique labels\n",
    "print(\"Unique Labels:\")\n",
    "for label in unique_labels:\n",
    "    print(label)\n",
    "\n",
    "\n"
   ]
  },
  {
   "cell_type": "code",
   "execution_count": 56,
   "id": "ead68092",
   "metadata": {},
   "outputs": [],
   "source": [
    "# Load the saved model\n",
    "model = load_model('final_model.h5')"
   ]
  },
  {
   "cell_type": "code",
   "execution_count": 61,
   "id": "de9d9eab",
   "metadata": {},
   "outputs": [
    {
     "name": "stdout",
     "output_type": "stream",
     "text": [
      "Species                                            0\n",
      "Plant height                                       0\n",
      "No. of leaves in a cluster                         0\n",
      "Leaf length width ratio                            0\n",
      "Average angle of leaf divergence from vertical.    0\n",
      "dtype: int64\n",
      "Unique Labels:\n",
      "Dracaena Trifasciata\n",
      "Sanseveria Liberica\n",
      "Sansevieria trifasciata Hahnii\n"
     ]
    }
   ],
   "source": [
    "# Function to replace missing values with column averages\n",
    "def replace_missing_with_average(data):\n",
    "    # Select only numeric columns\n",
    "    numeric_data = data.select_dtypes(include='number')\n",
    "    \n",
    "    # Calculate the average value of each column\n",
    "    column_averages = numeric_data.mean()\n",
    "    \n",
    "    # Replace missing values with column averages\n",
    "    data_filled = data.fillna(column_averages)\n",
    "    \n",
    "    return data_filled\n",
    "\n",
    "# Replace missing values with column averages\n",
    "data_filled = replace_missing_with_average(data)\n",
    "\n",
    "# Check for missing values after replacement\n",
    "print(data_filled.isnull().sum())\n",
    "\n",
    "features_data = data_filled.drop('Species', axis=1)\n",
    "labels = data_filled['Species'].to_numpy()\n",
    "\n",
    "# Encode labels\n",
    "encoder = OneHotEncoder(sparse=False)\n",
    "labels_encoded = encoder.fit_transform(labels.reshape(-1, 1))\n",
    "\n",
    "# Normalize features\n",
    "scaler = StandardScaler()\n",
    "features_normalized = scaler.fit_transform(features_data)\n",
    "\n",
    "# Get unique labels after encoding\n",
    "unique_labels = np.unique(labels)\n",
    "\n",
    "# Print unique labels\n",
    "print(\"Unique Labels:\")\n",
    "for label in unique_labels:\n",
    "    print(label)\n"
   ]
  },
  {
   "cell_type": "code",
   "execution_count": 62,
   "id": "07efa729",
   "metadata": {},
   "outputs": [
    {
     "name": "stdout",
     "output_type": "stream",
     "text": [
      "4/4 [==============================] - 0s 8ms/step\n",
      "Sample 1:\n",
      "Predicted Class: Sansevieria trifasciata Hahnii\n",
      "Predicted Probability: 0.9992\n",
      "Actual Class: Sansevieria trifasciata Hahnii\n",
      "\n",
      "Sample 2:\n",
      "Predicted Class: Sansevieria trifasciata Hahnii\n",
      "Predicted Probability: 0.9987\n",
      "Actual Class: Sansevieria trifasciata Hahnii\n",
      "\n",
      "Sample 3:\n",
      "Predicted Class: Sansevieria trifasciata Hahnii\n",
      "Predicted Probability: 0.9981\n",
      "Actual Class: Sansevieria trifasciata Hahnii\n",
      "\n",
      "Sample 4:\n",
      "Predicted Class: Sansevieria trifasciata Hahnii\n",
      "Predicted Probability: 0.9992\n",
      "Actual Class: Sansevieria trifasciata Hahnii\n",
      "\n",
      "Sample 5:\n",
      "Predicted Class: Sansevieria trifasciata Hahnii\n",
      "Predicted Probability: 0.9817\n",
      "Actual Class: Sansevieria trifasciata Hahnii\n",
      "\n",
      "Sample 6:\n",
      "Predicted Class: Sansevieria trifasciata Hahnii\n",
      "Predicted Probability: 0.9893\n",
      "Actual Class: Sansevieria trifasciata Hahnii\n",
      "\n",
      "Sample 7:\n",
      "Predicted Class: Sansevieria trifasciata Hahnii\n",
      "Predicted Probability: 0.9796\n",
      "Actual Class: Sansevieria trifasciata Hahnii\n",
      "\n",
      "Sample 8:\n",
      "Predicted Class: Sansevieria trifasciata Hahnii\n",
      "Predicted Probability: 0.9508\n",
      "Actual Class: Sansevieria trifasciata Hahnii\n",
      "\n",
      "Sample 9:\n",
      "Predicted Class: Sansevieria trifasciata Hahnii\n",
      "Predicted Probability: 1.0000\n",
      "Actual Class: Sansevieria trifasciata Hahnii\n",
      "\n",
      "Sample 10:\n",
      "Predicted Class: Sansevieria trifasciata Hahnii\n",
      "Predicted Probability: 1.0000\n",
      "Actual Class: Sansevieria trifasciata Hahnii\n",
      "\n"
     ]
    }
   ],
   "source": [
    "# Make predictions on the features data\n",
    "predictions = model.predict(features_normalized)\n",
    "\n",
    "# Iterate over the first 10 samples\n",
    "for i in range(10):\n",
    "    # Get the predicted class index with the highest probability\n",
    "    predicted_class_index = np.argmax(predictions[i])\n",
    "    \n",
    "    # Get the predicted probability for the predicted class\n",
    "    predicted_probability = predictions[i][predicted_class_index]\n",
    "    \n",
    "    # Get the predicted class name\n",
    "    predicted_class_name = unique_labels[predicted_class_index]\n",
    "    \n",
    "    # Get the actual class name\n",
    "    actual_class_name = labels[i]\n",
    "    \n",
    "    # Print the results\n",
    "    print(f\"Sample {i+1}:\")\n",
    "    print(f\"Predicted Class: {predicted_class_name}\")\n",
    "    print(f\"Predicted Probability: {predicted_probability:.4f}\")\n",
    "    print(f\"Actual Class: {actual_class_name}\")\n",
    "    print()"
   ]
  },
  {
   "cell_type": "code",
   "execution_count": 63,
   "id": "784d2064",
   "metadata": {},
   "outputs": [
    {
     "name": "stdout",
     "output_type": "stream",
     "text": [
      "Correctly Classified Examples:\n",
      "Sample 1: Predicted Class: Sansevieria trifasciata Hahnii, Actual Class: Sansevieria trifasciata Hahnii\n",
      "Sample 2: Predicted Class: Sansevieria trifasciata Hahnii, Actual Class: Sansevieria trifasciata Hahnii\n",
      "Sample 3: Predicted Class: Sansevieria trifasciata Hahnii, Actual Class: Sansevieria trifasciata Hahnii\n",
      "Sample 4: Predicted Class: Sansevieria trifasciata Hahnii, Actual Class: Sansevieria trifasciata Hahnii\n",
      "Sample 5: Predicted Class: Sansevieria trifasciata Hahnii, Actual Class: Sansevieria trifasciata Hahnii\n",
      "\n",
      "Incorrectly Classified Examples:\n",
      "Sample 52: Predicted Class: Sanseveria Liberica, Actual Class: Dracaena Trifasciata\n",
      "Sample 76: Predicted Class: Sanseveria Liberica, Actual Class: Dracaena Trifasciata\n",
      "Sample 78: Predicted Class: Sanseveria Liberica, Actual Class: Dracaena Trifasciata\n"
     ]
    }
   ],
   "source": [
    "# Display some correctly and incorrectly classified examples\n",
    "correctly_classified = []\n",
    "incorrectly_classified = []\n",
    "\n",
    "# Compare predicted classes with actual classes\n",
    "for i in range(len(predictions)):\n",
    "    predicted_class_index = np.argmax(predictions[i])\n",
    "    predicted_class_name = unique_labels[predicted_class_index]\n",
    "    actual_class_name = labels[i]\n",
    "    \n",
    "    if predicted_class_name == actual_class_name:\n",
    "        correctly_classified.append(i)\n",
    "    else:\n",
    "        incorrectly_classified.append(i)\n",
    "\n",
    "# Display some correctly classified examples\n",
    "print(\"Correctly Classified Examples:\")\n",
    "for i in correctly_classified[:5]:\n",
    "    print(f\"Sample {i+1}: Predicted Class: {unique_labels[np.argmax(predictions[i])]}, Actual Class: {labels[i]}\")\n",
    "\n",
    "# Display some incorrectly classified examples\n",
    "print(\"\\nIncorrectly Classified Examples:\")\n",
    "for i in incorrectly_classified[:5]:\n",
    "    print(f\"Sample {i+1}: Predicted Class: {unique_labels[np.argmax(predictions[i])]}, Actual Class: {labels[i]}\")"
   ]
  },
  {
   "cell_type": "code",
   "execution_count": 64,
   "id": "6fe8470a",
   "metadata": {},
   "outputs": [
    {
     "data": {
      "image/png": "[encoded data removed]",
      "text/plain": [
       "<Figure size 1000x800 with 2 Axes>"
      ]
     },
     "metadata": {},
     "output_type": "display_data"
    }
   ],
   "source": [
    "# Generate confusion matrix\n",
    "# Convert predicted classes to string labels\n",
    "predicted_class_names = [unique_labels[np.argmax(pred)] for pred in predictions]\n",
    "\n",
    "# Generate confusion matrix\n",
    "cm = confusion_matrix(labels, predicted_class_names, labels=unique_labels)\n",
    "\n",
    "# Plot confusion matrix\n",
    "plt.figure(figsize=(10, 8))\n",
    "sns.heatmap(cm, annot=True, fmt='d', cmap='Blues', xticklabels=unique_labels, yticklabels=unique_labels)\n",
    "plt.xlabel('Predicted')\n",
    "plt.ylabel('Actual')\n",
    "plt.title('Confusion Matrix')\n",
    "plt.show()"
   ]
  },
  {
   "cell_type": "code",
   "execution_count": null,
   "id": "eaf3b814",
   "metadata": {},
   "outputs": [],
   "source": []
  }
 ],
 "metadata": {
  "kernelspec": {
   "display_name": "Python 3 (ipykernel)",
   "language": "python",
   "name": "python3"
  },
  "language_info": {
   "codemirror_mode": {
    "name": "ipython",
    "version": 3
   },
   "file_extension": ".py",
   "mimetype": "text/x-python",
   "name": "python",
   "nbconvert_exporter": "python",
   "pygments_lexer": "ipython3",
   "version": "3.7.1"
  }
 },
 "nbformat": 4,
 "nbformat_minor": 5
}
